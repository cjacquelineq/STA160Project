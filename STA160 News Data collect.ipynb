{
 "cells": [
  {
   "cell_type": "code",
   "execution_count": 48,
   "metadata": {
    "collapsed": true
   },
   "outputs": [],
   "source": [
    "from eventregistry import *"
   ]
  },
  {
   "cell_type": "code",
   "execution_count": 176,
   "metadata": {
    "collapsed": false
   },
   "outputs": [
    {
     "name": "stdout",
     "output_type": "stream",
     "text": [
      "using user provided API key for making requests\n",
      "Event Registry host: http://eventregistry.org\n"
     ]
    }
   ],
   "source": [
    "# https://github.com/EventRegistry/event-registry-python/wiki/Searching-for-events\n",
    "\n",
    "er = EventRegistry(apiKey = 'fc30bb33-4750-4bde-9dae-daec81f6b731')\n",
    "\n",
    "q2 = QueryEventsIter(conceptUri = er.getConceptUri(\"apple\"), lang='eng',dateStart = '2017-04-19',\n",
    "        dateEnd = '2017-04-26')\n",
    "\n",
    "q2.addRequestedResult(RequestEventsInfo(page = 1, count = 200,sortBy= 'rel', \n",
    "    returnInfo = ReturnInfo(eventInfo = EventInfoFlags(title = True,\n",
    "    summary = True,\n",
    "    articleCounts = True,\n",
    "    concepts = False,\n",
    "    categories = False,\n",
    "    location = True,\n",
    "    date = True,\n",
    "    commonDates = False,\n",
    "    stories = False,\n",
    "    socialScore = False,\n",
    "    details = False,\n",
    "    imageCount = 0))))"
   ]
  },
  {
   "cell_type": "code",
   "execution_count": 177,
   "metadata": {
    "collapsed": false
   },
   "outputs": [],
   "source": [
    "res1 = er.execQuery(q2)"
   ]
  },
  {
   "cell_type": "code",
   "execution_count": 178,
   "metadata": {
    "collapsed": false
   },
   "outputs": [
    {
     "data": {
      "text/plain": [
       "u'If you were eyeing that iPhone, this could be the right time. Flipkart has kicked off the Apple Days sale and has slashed the prices of almost all of the iPhone models in India. The company is selling the iPhone 6 for Rs 25,660 while the iPhone 5S, which is a rather old phone, is now at Rs 17,499, making it the cheapest iPhone in India.\\n\\nAlthough the best deal of the lot looks like the iPhone 6, there is also the iPhone SE. That phone is now has a starting price of Rs 20,999, which again is a pre'"
      ]
     },
     "execution_count": 178,
     "metadata": {},
     "output_type": "execute_result"
    }
   ],
   "source": [
    "res1['events']['results'][1]['summary']['eng']"
   ]
  },
  {
   "cell_type": "code",
   "execution_count": 172,
   "metadata": {
    "collapsed": false
   },
   "outputs": [
    {
     "data": {
      "text/plain": [
       "{u'keywordAggr': {u'results': [{u'keyword': u'apple',\n",
       "    u'weight': 0.2357982844114304},\n",
       "   {u'keyword': u'app', u'weight': 0.1413156241178513},\n",
       "   {u'keyword': u'iphone', u'weight': 0.1380067020654678},\n",
       "   {u'keyword': u'samsung', u'weight': 0.1230901554226875},\n",
       "   {u'keyword': u'company', u'weight': 0.1183831170201302},\n",
       "   {u'keyword': u'google', u'weight': 0.105135515332222},\n",
       "   {u'keyword': u'galaxy', u'weight': 0.1028495728969574},\n",
       "   {u'keyword': u'users', u'weight': 0.102073922753334},\n",
       "   {u'keyword': u'years', u'weight': 0.09998183697462082},\n",
       "   {u'keyword': u'marketed', u'weight': 0.09874065220355988},\n",
       "   {u'keyword': u'devices', u'weight': 0.0968494638800621},\n",
       "   {u'keyword': u'data', u'weight': 0.09297303110361099},\n",
       "   {u'keyword': u'smartphone', u'weight': 0.0926770269870758},\n",
       "   {u'keyword': u'phone', u'weight': 0.09199655055999756},\n",
       "   {u'keyword': u's8', u'weight': 0.08973434567451477},\n",
       "   {u'keyword': u'percent', u'weight': 0.08851350843906403},\n",
       "   {u'keyword': u'millions', u'weight': 0.08502715826034546},\n",
       "   {u'keyword': u'times', u'weight': 0.08404580503702164},\n",
       "   {u'keyword': u'music', u'weight': 0.0828084871172905},\n",
       "   {u'keyword': u'service', u'weight': 0.08168086409568787},\n",
       "   {u'keyword': u'reported', u'weight': 0.08120335638523102},\n",
       "   {u'keyword': u'store', u'weight': 0.08063563704490662},\n",
       "   {u'keyword': u'updates', u'weight': 0.07987739145755768},\n",
       "   {u'keyword': u'technology', u'weight': 0.07968177646398544},\n",
       "   {u'keyword': u'product', u'weight': 0.07872110605239868},\n",
       "   {u'keyword': u'working', u'weight': 0.07629986107349396},\n",
       "   {u'keyword': u'mobile', u'weight': 0.07530619204044342},\n",
       "   {u'keyword': u'people', u'weight': 0.07418666779994965},\n",
       "   {u'keyword': u'shares', u'weight': 0.0737055316567421},\n",
       "   {u'keyword': u'watched', u'weight': 0.07248496264219284},\n",
       "   {u'keyword': u'feature', u'weight': 0.07238306850194931},\n",
       "   {u'keyword': u'days', u'weight': 0.07236052304506302},\n",
       "   {u'keyword': u'launching', u'weight': 0.0721055120229721},\n",
       "   {u'keyword': u'customers', u'weight': 0.07170704752206802},\n",
       "   {u'keyword': u'plans', u'weight': 0.07089371979236603},\n",
       "   {u'keyword': u'business', u'weight': 0.07022780925035477},\n",
       "   {u'keyword': u'pricing', u'weight': 0.06963721662759781},\n",
       "   {u'keyword': u'quarter', u'weight': 0.06860508769750595},\n",
       "   {u'keyword': u'developed', u'weight': 0.06773428618907928},\n",
       "   {u'keyword': u'release', u'weight': 0.06766161322593689},\n",
       "   {u'keyword': u'display', u'weight': 0.06655590236186981},\n",
       "   {u'keyword': u'camera', u'weight': 0.0654580220580101},\n",
       "   {u'keyword': u'android', u'weight': 0.06481345742940903},\n",
       "   {u'keyword': u'facebook', u'weight': 0.06374623626470566},\n",
       "   {u'keyword': u'recorded', u'weight': 0.06358890980482101},\n",
       "   {u'keyword': u'listings', u'weight': 0.06218967214226723},\n",
       "   {u'keyword': u'china', u'weight': 0.06194020435214043},\n",
       "   {u'keyword': u'months', u'weight': 0.06183294579386711},\n",
       "   {u'keyword': u'game', u'weight': 0.06163261458277702},\n",
       "   {u'keyword': u'including', u'weight': 0.06036330014467239},\n",
       "   {u'keyword': u'batteries', u'weight': 0.06004497781395912},\n",
       "   {u'keyword': u'screens', u'weight': 0.05923153832554817},\n",
       "   {u'keyword': u'expected', u'weight': 0.05913837626576424},\n",
       "   {u'keyword': u'billion', u'weight': 0.05908270925283432},\n",
       "   {u'keyword': u'world', u'weight': 0.05893296375870705},\n",
       "   {u'keyword': u'contents', u'weight': 0.05857719480991364},\n",
       "   {u'keyword': u'issues', u'weight': 0.05838775634765625},\n",
       "   {u'keyword': u'showed', u'weight': 0.05762875452637672},\n",
       "   {u'keyword': u'design', u'weight': 0.05673490464687347},\n",
       "   {u'keyword': u'started', u'weight': 0.05658795312047005},\n",
       "   {u'keyword': u'branded', u'weight': 0.05646663904190063},\n",
       "   {u'keyword': u'living', u'weight': 0.05621932446956635},\n",
       "   {u'keyword': u'streamed', u'weight': 0.05601140856742859},\n",
       "   {u'keyword': u'called', u'weight': 0.05560056492686272},\n",
       "   {u'keyword': u'ios', u'weight': 0.05524949729442596},\n",
       "   {u'keyword': u'unit', u'weight': 0.0542600005865097},\n",
       "   {u'keyword': u'noting', u'weight': 0.05391180515289307},\n",
       "   {u'keyword': u'tech', u'weight': 0.05379584804177284},\n",
       "   {u'keyword': u'base', u'weight': 0.05367659777402878},\n",
       "   {u'keyword': u'industry', u'weight': 0.05264511704444885},\n",
       "   {u'keyword': u'city', u'weight': 0.05224043875932693},\n",
       "   {u'keyword': u'offering', u'weight': 0.05223949626088142},\n",
       "   {u'keyword': u'runs', u'weight': 0.05073272809386253},\n",
       "   {u'keyword': u'ended', u'weight': 0.05063894391059875},\n",
       "   {u'keyword': u'pros', u'weight': 0.05044009536504745},\n",
       "   {u'keyword': u'adding', u'weight': 0.05043447017669678},\n",
       "   {u'keyword': u'sales', u'weight': 0.05004380270838737},\n",
       "   {u'keyword': u'pay', u'weight': 0.04996638745069504},\n",
       "   {u'keyword': u'charging', u'weight': 0.04974240437150002},\n",
       "   {u'keyword': u'digitally', u'weight': 0.04958085343241692},\n",
       "   {u'keyword': u'video', u'weight': 0.04904163256287575},\n",
       "   {u'keyword': u'makes', u'weight': 0.04893726110458374},\n",
       "   {u'keyword': u'supported', u'weight': 0.04891024902462959},\n",
       "   {u'keyword': u'selling', u'weight': 0.04885883629322052},\n",
       "   {u'keyword': u'version', u'weight': 0.04882654920220375},\n",
       "   {u'keyword': u'globally', u'weight': 0.04852622747421265},\n",
       "   {u'keyword': u'tv', u'weight': 0.04827810451388359},\n",
       "   {u'keyword': u'll', u'weight': 0.04824415966868401},\n",
       "   {u'keyword': u'trade', u'weight': 0.04809301719069481},\n",
       "   {u'keyword': u'software', u'weight': 0.04783488810062408},\n",
       "   {u'keyword': u'xiaomi', u'weight': 0.04759354516863823},\n",
       "   {u'keyword': u'growth', u'weight': 0.04699621722102165},\n",
       "   {u'keyword': u'profit', u'weight': 0.04694143682718277},\n",
       "   {u'keyword': u'information', u'weight': 0.04693866893649101},\n",
       "   {u'keyword': u'buy', u'weight': 0.04684724658727646},\n",
       "   {u'keyword': u'set', u'weight': 0.04643537849187851},\n",
       "   {u'keyword': u'build', u'weight': 0.04625219479203224},\n",
       "   {u'keyword': u'recent', u'weight': 0.0460653193295002},\n",
       "   {u'keyword': u'stocks', u'weight': 0.04586976766586304},\n",
       "   {u'keyword': u'research', u'weight': 0.04575721919536591}]}}"
      ]
     },
     "execution_count": 172,
     "metadata": {},
     "output_type": "execute_result"
    }
   ],
   "source": [
    "res1"
   ]
  },
  {
   "cell_type": "code",
   "execution_count": null,
   "metadata": {
    "collapsed": true
   },
   "outputs": [],
   "source": [
    "# Other functions: \n",
    "er = EventRegistry(apiKey = 'fc30bb33-4750-4bde-9dae-daec81f6b731')\n",
    "q3 = QueryEventsIter(conceptUri = er.getConceptUri(\"apple\"), lang='eng',dateStart = '2017-04-19',\n",
    "        dateEnd = '2017-04-26')\n",
    "q3.addRequestedResult(RequestEventsKeywordAggr())"
   ]
  },
  {
   "cell_type": "code",
   "execution_count": null,
   "metadata": {
    "collapsed": true
   },
   "outputs": [],
   "source": [
    "res3 = er.execQuery(q3)"
   ]
  },
  {
   "cell_type": "code",
   "execution_count": 173,
   "metadata": {
    "collapsed": true
   },
   "outputs": [],
   "source": [
    "q4 = QueryEventsIter(conceptUri = er.getConceptUri(\"apple\"), lang='eng',dateStart = '2017-04-19',\n",
    "        dateEnd = '2017-04-26')\n",
    "q4.addRequestedResult(RequestEventsTimeAggr())"
   ]
  },
  {
   "cell_type": "code",
   "execution_count": 174,
   "metadata": {
    "collapsed": true
   },
   "outputs": [],
   "source": [
    "res4 = er.execQuery(q4)"
   ]
  },
  {
   "cell_type": "code",
   "execution_count": 175,
   "metadata": {
    "collapsed": false
   },
   "outputs": [
    {
     "data": {
      "text/plain": [
       "{u'timeAggr': {u'results': [{u'count': 51, u'date': u'2017-04-19'},\n",
       "   {u'count': 30, u'date': u'2017-04-20'},\n",
       "   {u'count': 41, u'date': u'2017-04-21'},\n",
       "   {u'count': 21, u'date': u'2017-04-22'},\n",
       "   {u'count': 13, u'date': u'2017-04-23'},\n",
       "   {u'count': 48, u'date': u'2017-04-24'},\n",
       "   {u'count': 36, u'date': u'2017-04-25'},\n",
       "   {u'count': 13, u'date': u'2017-04-26'}]}}"
      ]
     },
     "execution_count": 175,
     "metadata": {},
     "output_type": "execute_result"
    }
   ],
   "source": [
    "res4"
   ]
  },
  {
   "cell_type": "markdown",
   "metadata": {},
   "source": [
    "##### Reflection: This method has a flaw: it only can return the beginning lines of the articles (\"summary\") and it obviously can't represent the full body text. However, it gives uri. Can we do anything to extract the full body by using uri?"
   ]
  },
  {
   "cell_type": "code",
   "execution_count": null,
   "metadata": {
    "collapsed": true
   },
   "outputs": [],
   "source": []
  }
 ],
 "metadata": {
  "anaconda-cloud": {},
  "kernelspec": {
   "display_name": "Python [conda root]",
   "language": "python",
   "name": "conda-root-py"
  },
  "language_info": {
   "codemirror_mode": {
    "name": "ipython",
    "version": 2
   },
   "file_extension": ".py",
   "mimetype": "text/x-python",
   "name": "python",
   "nbconvert_exporter": "python",
   "pygments_lexer": "ipython2",
   "version": "2.7.12"
  }
 },
 "nbformat": 4,
 "nbformat_minor": 1
}
