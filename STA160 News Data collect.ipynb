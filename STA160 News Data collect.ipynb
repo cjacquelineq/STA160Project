{
 "cells": [
  {
   "cell_type": "code",
   "execution_count": 48,
   "metadata": {
    "collapsed": true
   },
   "outputs": [],
   "source": [
    "from eventregistry import *"
   ]
  },
  {
   "cell_type": "code",
   "execution_count": 163,
   "metadata": {
    "collapsed": false
   },
   "outputs": [
    {
     "name": "stdout",
     "output_type": "stream",
     "text": [
      "using user provided API key for making requests\n",
      "Event Registry host: http://eventregistry.org\n"
     ]
    }
   ],
   "source": [
    "# https://github.com/EventRegistry/event-registry-python/wiki/Searching-for-events\n",
    "\n",
    "er = EventRegistry(apiKey = 'fc30bb33-4750-4bde-9dae-daec81f6b731')\n",
    "\n",
    "q2 = QueryEventsIter(conceptUri = er.getConceptUri(\"apple\"), lang='eng',dateStart = '2017-04-19',\n",
    "        dateEnd = '2017-04-26')\n",
    "\n",
    "q2.addRequestedResult(RequestEventsInfo(page = 1, count = 200,sortBy= 'rel', \n",
    "    returnInfo = ReturnInfo(eventInfo = EventInfoFlags(title = True,\n",
    "    summary = True,\n",
    "    articleCounts = True,\n",
    "    concepts = False,\n",
    "    categories = False,\n",
    "    location = True,\n",
    "    date = True,\n",
    "    commonDates = False,\n",
    "    stories = False,\n",
    "    socialScore = False,\n",
    "    details = False,\n",
    "    imageCount = 0))))"
   ]
  },
  {
   "cell_type": "code",
   "execution_count": 164,
   "metadata": {
    "collapsed": false
   },
   "outputs": [],
   "source": [
    "res1 = er.execQuery(q2)"
   ]
  },
  {
   "cell_type": "code",
   "execution_count": 165,
   "metadata": {
    "collapsed": false
   },
   "outputs": [
    {
     "data": {
      "text/plain": [
       "200"
      ]
     },
     "execution_count": 165,
     "metadata": {},
     "output_type": "execute_result"
    }
   ],
   "source": [
    "#res1['events']['results'][0]['summary']['eng']\n",
    "#res1\n",
    "len(res1['events']['results'])"
   ]
  },
  {
   "cell_type": "code",
   "execution_count": null,
   "metadata": {
    "collapsed": true
   },
   "outputs": [],
   "source": []
  }
 ],
 "metadata": {
  "anaconda-cloud": {},
  "kernelspec": {
   "display_name": "Python [conda root]",
   "language": "python",
   "name": "conda-root-py"
  },
  "language_info": {
   "codemirror_mode": {
    "name": "ipython",
    "version": 2
   },
   "file_extension": ".py",
   "mimetype": "text/x-python",
   "name": "python",
   "nbconvert_exporter": "python",
   "pygments_lexer": "ipython2",
   "version": "2.7.12"
  }
 },
 "nbformat": 4,
 "nbformat_minor": 1
}
